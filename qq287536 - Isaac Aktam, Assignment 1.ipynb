{
 "cells": [
  {
   "cell_type": "code",
   "execution_count": 0,
   "metadata": {
    "colab": {},
    "colab_type": "code",
    "collapsed": true,
    "id": "qvZ1207ZMV-S"
   },
   "outputs": [],
   "source": [
    "import tensorflow as tf\n",
    "from tensorflow import keras\n",
    "from tensorflow.python.keras.models import Sequential"
   ]
  },
  {
   "cell_type": "code",
   "execution_count": 0,
   "metadata": {
    "colab": {},
    "colab_type": "code",
    "collapsed": true,
    "id": "8tyaJ9SJQ6ZP"
   },
   "outputs": [],
   "source": [
    "import numpy as np"
   ]
  },
  {
   "cell_type": "code",
   "execution_count": 0,
   "metadata": {
    "colab": {},
    "colab_type": "code",
    "collapsed": true,
    "id": "35xBUU1JMl3E"
   },
   "outputs": [],
   "source": [
    "model = Sequential()\n",
    "# The first layer should have 64 units and input_shape (10, ) and use relu:\n",
    "model.add(keras.layers.Dense(64, input_shape = (10, ), activation='relu'))\n",
    "# The next layer should have 32 units and use a sigmoid activation:\n",
    "model.add(keras.layers.Dense(32, activation='sigmoid'))\n",
    "# The next layer should have 5 units and use relu with an L2 kernel regularization factor of 0.01:\n",
    "model.add(keras.layers.Dense(5, activation='relu', kernel_regularizer=tf.keras.regularizers.l2(0.01)))\n",
    "# Add a softmax layer with 3 output units:\n",
    "model.add(keras.layers.Dense(3, activation='softmax'))"
   ]
  },
  {
   "cell_type": "code",
   "execution_count": 0,
   "metadata": {
    "colab": {},
    "colab_type": "code",
    "collapsed": true,
    "id": "-Uk9gE6UOb9k"
   },
   "outputs": [],
   "source": [
    "# Train the model using the RMSProp optimizer with a factor of 0.01, a loss function of Mean Squared Error and a metric of \n",
    "# Mean Absolute Error, using the same randomly-generated data as in “Input NumPy Data” in “Build a Simple Model” but with 3 labels \n",
    "# rather than 10.  Train for 10 epochs using a batch size of 32. Use a randomly-generated validation set similar to the example.\n",
    "\n",
    "# Evaluate your model using a randomly generated “data” and “labels” (again with 3 labels rather than 10) similar to how it is done \n",
    "# in the “Evaluate and Predict” section of “Build a Simple Model”\n",
    "\n"
   ]
  },
  {
   "cell_type": "code",
   "execution_count": 0,
   "metadata": {
    "colab": {},
    "colab_type": "code",
    "collapsed": true,
    "id": "hDzTGqFGPkIx"
   },
   "outputs": [],
   "source": [
    "model.compile(optimizer=tf.train.RMSPropOptimizer(0.01),\n",
    "              loss='mse',\n",
    "              metrics=['mae'])"
   ]
  },
  {
   "cell_type": "code",
   "execution_count": 11,
   "metadata": {
    "colab": {
     "base_uri": "https://localhost:8080/",
     "height": 374
    },
    "colab_type": "code",
    "id": "MJHhDDHWQg2-",
    "outputId": "fd273d79-24a7-4f8c-bb2c-3a780b547a7f"
   },
   "outputs": [
    {
     "name": "stdout",
     "output_type": "stream",
     "text": [
      "Epoch 1/10\n",
      "1000/1000 [==============================] - 1s 546us/step - loss: 0.2042 - mean_absolute_error: 0.2898\n",
      "Epoch 2/10\n",
      "1000/1000 [==============================] - 0s 44us/step - loss: 0.1876 - mean_absolute_error: 0.2801\n",
      "Epoch 3/10\n",
      "1000/1000 [==============================] - 0s 46us/step - loss: 0.1613 - mean_absolute_error: 0.2789\n",
      "Epoch 4/10\n",
      "1000/1000 [==============================] - 0s 43us/step - loss: 0.1232 - mean_absolute_error: 0.2792\n",
      "Epoch 5/10\n",
      "1000/1000 [==============================] - 0s 45us/step - loss: 0.1119 - mean_absolute_error: 0.2790\n",
      "Epoch 6/10\n",
      "1000/1000 [==============================] - 0s 45us/step - loss: 0.1118 - mean_absolute_error: 0.2790\n",
      "Epoch 7/10\n",
      "1000/1000 [==============================] - 0s 46us/step - loss: 0.1121 - mean_absolute_error: 0.2794\n",
      "Epoch 8/10\n",
      "1000/1000 [==============================] - 0s 44us/step - loss: 0.1118 - mean_absolute_error: 0.2791\n",
      "Epoch 9/10\n",
      "1000/1000 [==============================] - 0s 40us/step - loss: 0.1119 - mean_absolute_error: 0.2791\n",
      "Epoch 10/10\n",
      "1000/1000 [==============================] - 0s 41us/step - loss: 0.1118 - mean_absolute_error: 0.2790\n"
     ]
    },
    {
     "data": {
      "text/plain": [
       "<tensorflow.python.keras.callbacks.History at 0x7fc41df60fd0>"
      ]
     },
     "execution_count": 11,
     "metadata": {
      "tags": []
     },
     "output_type": "execute_result"
    }
   ],
   "source": [
    "import numpy as np\n",
    "\n",
    "data = np.random.random((1000, 10))\n",
    "labels = np.random.random((1000, 3))\n",
    "\n",
    "model.fit(data, labels, epochs=10, batch_size=32)"
   ]
  },
  {
   "cell_type": "code",
   "execution_count": 0,
   "metadata": {
    "colab": {},
    "colab_type": "code",
    "collapsed": true,
    "id": "ShqZhE1wRmEL"
   },
   "outputs": [],
   "source": []
  }
 ],
 "metadata": {
  "colab": {
   "name": "Untitled0.ipynb",
   "provenance": [],
   "version": "0.3.2"
  },
  "kernelspec": {
   "display_name": "Python 3",
   "language": "python",
   "name": "python3"
  },
  "language_info": {
   "codemirror_mode": {
    "name": "ipython",
    "version": 3
   },
   "file_extension": ".py",
   "mimetype": "text/x-python",
   "name": "python",
   "nbconvert_exporter": "python",
   "pygments_lexer": "ipython3",
   "version": "3.7.3"
  }
 },
 "nbformat": 4,
 "nbformat_minor": 1
}
